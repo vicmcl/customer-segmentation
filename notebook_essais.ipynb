{
 "cells": [
  {
   "cell_type": "code",
   "execution_count": 3,
   "metadata": {},
   "outputs": [],
   "source": [
    "import matplotlib.pyplot as plt\n",
    "import numpy as np\n",
    "import pandas as pd\n",
    "import seaborn as sns\n",
    "\n",
    "from sklearn.cluster import KMeans, DBSCAN\n",
    "\n",
    "%matplotlib inline\n",
    "sns.set_style('white')"
   ]
  },
  {
   "cell_type": "code",
   "execution_count": 7,
   "metadata": {},
   "outputs": [
    {
     "name": "stderr",
     "output_type": "stream",
     "text": [
      "/home/victorien/anaconda3/lib/python3.11/site-packages/sklearn/cluster/_kmeans.py:870: FutureWarning: The default value of `n_init` will change from 10 to 'auto' in 1.4. Set the value of `n_init` explicitly to suppress the warning\n",
      "  warnings.warn(\n"
     ]
    }
   ],
   "source": [
    "# Load the dataset from the JSON file directly into a DataFrame\n",
    "df = pd.read_json('data.json')\n",
    "\n",
    "# K-Means clustering\n",
    "kmeans_model = KMeans(n_clusters=3, random_state=42)\n",
    "df['kmeans_cluster'] = kmeans_model.fit_predict(df[df.columns.tolist()])\n",
    "\n",
    "# DBSCAN clustering\n",
    "dbscan_model = DBSCAN(eps=0.5, min_samples=5)\n",
    "df['dbscan_cluster'] = dbscan_model.fit_predict(df[df.columns.tolist()])\n",
    "\n",
    "# Visualize the clusters (for 2D data, using the first two features)\n",
    "plt.figure(figsize=(12, 6))\n",
    "\n",
    "plt.subplot(1, 2, 1)\n",
    "plt.scatter(df['feature1'], df['feature2'], c=df['kmeans_cluster'], cmap='viridis')\n",
    "plt.title('K-Means Clustering')\n",
    "\n",
    "plt.subplot(1, 2, 2)\n",
    "plt.scatter(df['feature1'], df['feature2'], c=df['dbscan_cluster'], cmap='viridis')\n",
    "plt.title('DBSCAN Clustering')\n",
    "\n",
    "plt.show()"
   ]
  }
 ],
 "metadata": {
  "kernelspec": {
   "display_name": "base",
   "language": "python",
   "name": "python3"
  },
  "language_info": {
   "codemirror_mode": {
    "name": "ipython",
    "version": 3
   },
   "file_extension": ".py",
   "mimetype": "text/x-python",
   "name": "python",
   "nbconvert_exporter": "python",
   "pygments_lexer": "ipython3",
   "version": "3.11.5"
  }
 },
 "nbformat": 4,
 "nbformat_minor": 2
}
