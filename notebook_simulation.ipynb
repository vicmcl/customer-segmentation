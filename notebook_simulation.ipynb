{
  "cells": [
    {
      "cell_type": "code",
      "execution_count": 4,
      "metadata": {
        "id": "5Dh-v1NkgXRm"
      },
      "outputs": [],
      "source": [
        "%load_ext autoreload\n",
        "%autoreload 2"
      ]
    },
    {
      "cell_type": "code",
      "source": [
        "from pathlib import Path\n",
        "from google.colab import drive\n",
        "import sys\n",
        "\n",
        "content_path = Path('/').absolute() / 'content'\n",
        "drive_path = content_path / 'drive'\n",
        "drive.flush_and_unmount()\n",
        "drive.mount(str(drive_path))\n",
        "\n",
        "sys.path.append(str(drive_path / \"My Drive\" / \"OCR\" / \"utils\"))"
      ],
      "metadata": {
        "id": "ftJUDutFgfPV",
        "outputId": "cc1759aa-987e-4b8d-acd4-b77441d0685e",
        "colab": {
          "base_uri": "https://localhost:8080/"
        }
      },
      "execution_count": 1,
      "outputs": [
        {
          "output_type": "stream",
          "name": "stdout",
          "text": [
            "Drive not mounted, so nothing to flush and unmount.\n",
            "Mounted at /content/drive\n"
          ]
        }
      ]
    },
    {
      "cell_type": "code",
      "execution_count": 6,
      "metadata": {
        "id": "LXQxKlrUgXRo"
      },
      "outputs": [],
      "source": [
        "import matplotlib.pyplot as plt\n",
        "import numpy as np\n",
        "import pandas as pd\n",
        "import seaborn as sns\n",
        "\n",
        "from customseg import CustomerStandardizer, CustomerSummary, Periodizer\n",
        "from sklearn.base import BaseEstimator, TransformerMixin\n",
        "from sklearn.impute import SimpleImputer\n",
        "from sklearn.preprocessing import StandardScaler\n",
        "\n",
        "%matplotlib inline\n",
        "sns.set_style('white')"
      ]
    },
    {
      "cell_type": "code",
      "execution_count": 9,
      "metadata": {
        "id": "PGJMRepZgXRp"
      },
      "outputs": [],
      "source": [
        "df = pd.read_json(drive_path / \"My Drive\" / \"OCR\" / \"4_Olist\" / \"orders.json\")"
      ]
    },
    {
      "cell_type": "code",
      "execution_count": 10,
      "metadata": {
        "id": "cuPrbV-PgXRq"
      },
      "outputs": [],
      "source": [
        "prdz = Periodizer(months=3)\n",
        "\n",
        "df = prdz.fit_transform(df)"
      ]
    },
    {
      "cell_type": "code",
      "execution_count": 12,
      "metadata": {
        "id": "mSO_rG5IgXRq"
      },
      "outputs": [],
      "source": [
        "df_agg_period = df.groupby(\"period_id\")\n",
        "periods = dict()\n",
        "csum = CustomerSummary()\n",
        "cstd = CustomerStandardizer()\n",
        "\n",
        "for pid in range(1, df[\"period_id\"].max() + 1):\n",
        "    periods[pid] = (\n",
        "        cstd.fit_transform(\n",
        "            csum.fit_transform(\n",
        "                df_agg_period.get_group(pid).drop(\"period_id\", axis=1))))"
      ]
    }
  ],
  "metadata": {
    "kernelspec": {
      "display_name": "base",
      "language": "python",
      "name": "python3"
    },
    "language_info": {
      "codemirror_mode": {
        "name": "ipython",
        "version": 3
      },
      "file_extension": ".py",
      "mimetype": "text/x-python",
      "name": "python",
      "nbconvert_exporter": "python",
      "pygments_lexer": "ipython3",
      "version": "3.11.5"
    },
    "colab": {
      "provenance": []
    }
  },
  "nbformat": 4,
  "nbformat_minor": 0
}