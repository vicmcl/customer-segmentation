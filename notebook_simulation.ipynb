{
  "cells": [
    {
      "cell_type": "markdown",
      "metadata": {
        "id": "view-in-github",
        "colab_type": "text"
      },
      "source": [
        "<a href=\"https://colab.research.google.com/github/vicmcl/e-commerce/blob/main/notebook_simulation.ipynb\" target=\"_parent\"><img src=\"https://colab.research.google.com/assets/colab-badge.svg\" alt=\"Open In Colab\"/></a>"
      ]
    },
    {
      "cell_type": "markdown",
      "source": [
        "# Import"
      ],
      "metadata": {
        "id": "xamKwV-WDCGR"
      }
    },
    {
      "cell_type": "code",
      "execution_count": 31,
      "metadata": {
        "id": "5Dh-v1NkgXRm"
      },
      "outputs": [],
      "source": [
        "%reload_ext autoreload\n",
        "%autoreload 2"
      ]
    },
    {
      "cell_type": "code",
      "source": [
        "from pathlib import Path\n",
        "from google.colab import drive\n",
        "import sys\n",
        "\n",
        "content_path = Path('/').absolute() / 'content'\n",
        "drive_path = content_path / 'drive'\n",
        "drive.flush_and_unmount()\n",
        "drive.mount(str(drive_path))\n",
        "\n",
        "sys.path.append(str(drive_path / \"My Drive\" / \"OCR\" / \"utils\"))"
      ],
      "metadata": {
        "id": "ftJUDutFgfPV",
        "outputId": "f27489ad-b3e7-449d-b029-b080e23e6f28",
        "colab": {
          "base_uri": "https://localhost:8080/"
        }
      },
      "execution_count": 32,
      "outputs": [
        {
          "output_type": "stream",
          "name": "stdout",
          "text": [
            "Mounted at /content/drive\n"
          ]
        }
      ]
    },
    {
      "cell_type": "code",
      "execution_count": 33,
      "metadata": {
        "id": "LXQxKlrUgXRo"
      },
      "outputs": [],
      "source": [
        "import matplotlib.pyplot as plt\n",
        "import numpy as np\n",
        "import pandas as pd\n",
        "import seaborn as sns\n",
        "import warnings\n",
        "\n",
        "from matplotlib.colors import LinearSegmentedColormap\n",
        "from sklearn.cluster import KMeans\n",
        "from sklearn.impute import SimpleImputer\n",
        "from sklearn.metrics import silhouette_score, adjusted_rand_score\n",
        "from sklearn.model_selection import train_test_split\n",
        "from sklearn.preprocessing import StandardScaler\n",
        "\n",
        "%matplotlib inline\n",
        "warnings.filterwarnings(\"ignore\")"
      ]
    },
    {
      "cell_type": "code",
      "source": [
        "plt.rcdefaults()\n",
        "sns.set_style('whitegrid')\n",
        "plt.rcParams[\"figure.dpi\"] = 200\n",
        "\n",
        "plt.rcParams['axes.spines.top'] = False\n",
        "plt.rcParams['axes.spines.right'] = False\n",
        "plt.rcParams['axes.spines.bottom'] = False\n",
        "plt.rcParams['axes.spines.left'] = False\n",
        "\n",
        "plt.rcParams['axes.labelpad'] = 20\n",
        "plt.rcParams['axes.labelcolor'] = '#4C4C4C'\n",
        "\n",
        "plt.rcParams['xtick.major.width'] = 1\n",
        "plt.rcParams['ytick.major.width'] = 1\n",
        "plt.rcParams['grid.linewidth'] = 0.5\n",
        "plt.rcParams['xtick.color'] = \"#89939C\"\n",
        "plt.rcParams['ytick.color'] = \"#89939C\"\n",
        "\n",
        "plt.rcParams['xtick.labelcolor'] = \"#89939C\"\n",
        "plt.rcParams['ytick.labelcolor'] = \"#89939C\""
      ],
      "metadata": {
        "id": "HDiPpsXWF4vt"
      },
      "execution_count": 34,
      "outputs": []
    },
    {
      "cell_type": "code",
      "execution_count": 35,
      "metadata": {
        "id": "PGJMRepZgXRp"
      },
      "outputs": [],
      "source": [
        "df = pd.read_json(drive_path / \"My Drive\" / \"OCR\" / \"4_Olist\" / \"orders.json\").sort_values(\"time_since_order\")"
      ]
    },
    {
      "cell_type": "code",
      "source": [
        "df[[\"time_since_order\", \"delay\"]] = df[[\"time_since_order\", \"delay\"]].applymap(lambda x: pd.Timedelta(x, unit=\"ms\"))"
      ],
      "metadata": {
        "id": "82zaBAc47TUy"
      },
      "execution_count": 36,
      "outputs": []
    },
    {
      "cell_type": "code",
      "source": [
        "df"
      ],
      "metadata": {
        "colab": {
          "base_uri": "https://localhost:8080/",
          "height": 424
        },
        "id": "SwS_EyYx_W-6",
        "outputId": "b0b9c9d9-10dc-4387-b39d-03a9a3302f4f"
      },
      "execution_count": 37,
      "outputs": [
        {
          "output_type": "execute_result",
          "data": {
            "text/plain": [
              "                               order_id                customer_unique_id  \\\n",
              "6511   10a045cdf6a5650c21e9cfeb60384c16  87ab9fec999db8bd5774917de3cdf01c   \n",
              "68317  b059ee4de278302d550a3035c4cdb740  262e1f1e26e92e86375f86840b4ffd63   \n",
              "62892  a2ac6dad85cf8af5b0afb510a240fe8c  af5454198a97379394cacf676e1e96cb   \n",
              "37735  616fa7d4871b87832197b2a137a115d2  634420a0ea42302205032ed44ac7fccc   \n",
              "22190  392ed9afd714e3c74767d0c4d3e3f477  9bb92bebd4cb7511e1a02d5e50bc4655   \n",
              "...                                 ...                               ...   \n",
              "43966  71303d7e93b399f5bcd537d124c0bcfa  0eb1ee9dba87f5b36b4613a65074337c   \n",
              "74448  bfbd0f9bdef84302105ad712db648a6c  830d5b7aaa3b6f1e9ad63703bec97d23   \n",
              "49869  809a282bbd5dbcabb6f2f724fca862ec  009b0127b727ab0ba422f6d9604487c7   \n",
              "89489  e5fa5a7210941f7d56d0208e4e071d35  4854e9b3feff728c13ee5fc7d1547e92   \n",
              "17931  2e7a8482f6fb09756ca50c10d7bfc047  b7d76e111c89f7ebf14761390f0f7d17   \n",
              "\n",
              "       total_payments  mean_review_score  time_since_order             delay  \n",
              "6511            89.71                1.0   0 days 00:00:00   0 days 00:00:00  \n",
              "68317          222.03                5.0   0 days 21:14:16   0 days 00:00:00  \n",
              "62892          197.55                1.0  13 days 22:34:49   0 days 00:00:00  \n",
              "37735           80.38                2.0  16 days 02:00:09   0 days 00:00:00  \n",
              "22190          137.03                1.0  18 days 08:17:15   0 days 00:00:00  \n",
              "...               ...                ...               ...               ...  \n",
              "43966          109.34                1.0 744 days 19:22:26   0 days 00:00:00  \n",
              "74448            0.00                1.0 762 days 05:13:40  36 days 07:47:38  \n",
              "49869           40.95                1.0 764 days 02:05:59   0 days 00:00:00  \n",
              "89489           75.06                1.0 772 days 17:14:44   0 days 00:00:00  \n",
              "17931          136.23                1.0 772 days 20:14:59 727 days 17:30:18  \n",
              "\n",
              "[99441 rows x 6 columns]"
            ],
            "text/html": [
              "\n",
              "  <div id=\"df-f6a5d4a9-d909-4ddf-a218-015840dae642\" class=\"colab-df-container\">\n",
              "    <div>\n",
              "<style scoped>\n",
              "    .dataframe tbody tr th:only-of-type {\n",
              "        vertical-align: middle;\n",
              "    }\n",
              "\n",
              "    .dataframe tbody tr th {\n",
              "        vertical-align: top;\n",
              "    }\n",
              "\n",
              "    .dataframe thead th {\n",
              "        text-align: right;\n",
              "    }\n",
              "</style>\n",
              "<table border=\"1\" class=\"dataframe\">\n",
              "  <thead>\n",
              "    <tr style=\"text-align: right;\">\n",
              "      <th></th>\n",
              "      <th>order_id</th>\n",
              "      <th>customer_unique_id</th>\n",
              "      <th>total_payments</th>\n",
              "      <th>mean_review_score</th>\n",
              "      <th>time_since_order</th>\n",
              "      <th>delay</th>\n",
              "    </tr>\n",
              "  </thead>\n",
              "  <tbody>\n",
              "    <tr>\n",
              "      <th>6511</th>\n",
              "      <td>10a045cdf6a5650c21e9cfeb60384c16</td>\n",
              "      <td>87ab9fec999db8bd5774917de3cdf01c</td>\n",
              "      <td>89.71</td>\n",
              "      <td>1.0</td>\n",
              "      <td>0 days 00:00:00</td>\n",
              "      <td>0 days 00:00:00</td>\n",
              "    </tr>\n",
              "    <tr>\n",
              "      <th>68317</th>\n",
              "      <td>b059ee4de278302d550a3035c4cdb740</td>\n",
              "      <td>262e1f1e26e92e86375f86840b4ffd63</td>\n",
              "      <td>222.03</td>\n",
              "      <td>5.0</td>\n",
              "      <td>0 days 21:14:16</td>\n",
              "      <td>0 days 00:00:00</td>\n",
              "    </tr>\n",
              "    <tr>\n",
              "      <th>62892</th>\n",
              "      <td>a2ac6dad85cf8af5b0afb510a240fe8c</td>\n",
              "      <td>af5454198a97379394cacf676e1e96cb</td>\n",
              "      <td>197.55</td>\n",
              "      <td>1.0</td>\n",
              "      <td>13 days 22:34:49</td>\n",
              "      <td>0 days 00:00:00</td>\n",
              "    </tr>\n",
              "    <tr>\n",
              "      <th>37735</th>\n",
              "      <td>616fa7d4871b87832197b2a137a115d2</td>\n",
              "      <td>634420a0ea42302205032ed44ac7fccc</td>\n",
              "      <td>80.38</td>\n",
              "      <td>2.0</td>\n",
              "      <td>16 days 02:00:09</td>\n",
              "      <td>0 days 00:00:00</td>\n",
              "    </tr>\n",
              "    <tr>\n",
              "      <th>22190</th>\n",
              "      <td>392ed9afd714e3c74767d0c4d3e3f477</td>\n",
              "      <td>9bb92bebd4cb7511e1a02d5e50bc4655</td>\n",
              "      <td>137.03</td>\n",
              "      <td>1.0</td>\n",
              "      <td>18 days 08:17:15</td>\n",
              "      <td>0 days 00:00:00</td>\n",
              "    </tr>\n",
              "    <tr>\n",
              "      <th>...</th>\n",
              "      <td>...</td>\n",
              "      <td>...</td>\n",
              "      <td>...</td>\n",
              "      <td>...</td>\n",
              "      <td>...</td>\n",
              "      <td>...</td>\n",
              "    </tr>\n",
              "    <tr>\n",
              "      <th>43966</th>\n",
              "      <td>71303d7e93b399f5bcd537d124c0bcfa</td>\n",
              "      <td>0eb1ee9dba87f5b36b4613a65074337c</td>\n",
              "      <td>109.34</td>\n",
              "      <td>1.0</td>\n",
              "      <td>744 days 19:22:26</td>\n",
              "      <td>0 days 00:00:00</td>\n",
              "    </tr>\n",
              "    <tr>\n",
              "      <th>74448</th>\n",
              "      <td>bfbd0f9bdef84302105ad712db648a6c</td>\n",
              "      <td>830d5b7aaa3b6f1e9ad63703bec97d23</td>\n",
              "      <td>0.00</td>\n",
              "      <td>1.0</td>\n",
              "      <td>762 days 05:13:40</td>\n",
              "      <td>36 days 07:47:38</td>\n",
              "    </tr>\n",
              "    <tr>\n",
              "      <th>49869</th>\n",
              "      <td>809a282bbd5dbcabb6f2f724fca862ec</td>\n",
              "      <td>009b0127b727ab0ba422f6d9604487c7</td>\n",
              "      <td>40.95</td>\n",
              "      <td>1.0</td>\n",
              "      <td>764 days 02:05:59</td>\n",
              "      <td>0 days 00:00:00</td>\n",
              "    </tr>\n",
              "    <tr>\n",
              "      <th>89489</th>\n",
              "      <td>e5fa5a7210941f7d56d0208e4e071d35</td>\n",
              "      <td>4854e9b3feff728c13ee5fc7d1547e92</td>\n",
              "      <td>75.06</td>\n",
              "      <td>1.0</td>\n",
              "      <td>772 days 17:14:44</td>\n",
              "      <td>0 days 00:00:00</td>\n",
              "    </tr>\n",
              "    <tr>\n",
              "      <th>17931</th>\n",
              "      <td>2e7a8482f6fb09756ca50c10d7bfc047</td>\n",
              "      <td>b7d76e111c89f7ebf14761390f0f7d17</td>\n",
              "      <td>136.23</td>\n",
              "      <td>1.0</td>\n",
              "      <td>772 days 20:14:59</td>\n",
              "      <td>727 days 17:30:18</td>\n",
              "    </tr>\n",
              "  </tbody>\n",
              "</table>\n",
              "<p>99441 rows × 6 columns</p>\n",
              "</div>\n",
              "    <div class=\"colab-df-buttons\">\n",
              "\n",
              "  <div class=\"colab-df-container\">\n",
              "    <button class=\"colab-df-convert\" onclick=\"convertToInteractive('df-f6a5d4a9-d909-4ddf-a218-015840dae642')\"\n",
              "            title=\"Convert this dataframe to an interactive table.\"\n",
              "            style=\"display:none;\">\n",
              "\n",
              "  <svg xmlns=\"http://www.w3.org/2000/svg\" height=\"24px\" viewBox=\"0 -960 960 960\">\n",
              "    <path d=\"M120-120v-720h720v720H120Zm60-500h600v-160H180v160Zm220 220h160v-160H400v160Zm0 220h160v-160H400v160ZM180-400h160v-160H180v160Zm440 0h160v-160H620v160ZM180-180h160v-160H180v160Zm440 0h160v-160H620v160Z\"/>\n",
              "  </svg>\n",
              "    </button>\n",
              "\n",
              "  <style>\n",
              "    .colab-df-container {\n",
              "      display:flex;\n",
              "      gap: 12px;\n",
              "    }\n",
              "\n",
              "    .colab-df-convert {\n",
              "      background-color: #E8F0FE;\n",
              "      border: none;\n",
              "      border-radius: 50%;\n",
              "      cursor: pointer;\n",
              "      display: none;\n",
              "      fill: #1967D2;\n",
              "      height: 32px;\n",
              "      padding: 0 0 0 0;\n",
              "      width: 32px;\n",
              "    }\n",
              "\n",
              "    .colab-df-convert:hover {\n",
              "      background-color: #E2EBFA;\n",
              "      box-shadow: 0px 1px 2px rgba(60, 64, 67, 0.3), 0px 1px 3px 1px rgba(60, 64, 67, 0.15);\n",
              "      fill: #174EA6;\n",
              "    }\n",
              "\n",
              "    .colab-df-buttons div {\n",
              "      margin-bottom: 4px;\n",
              "    }\n",
              "\n",
              "    [theme=dark] .colab-df-convert {\n",
              "      background-color: #3B4455;\n",
              "      fill: #D2E3FC;\n",
              "    }\n",
              "\n",
              "    [theme=dark] .colab-df-convert:hover {\n",
              "      background-color: #434B5C;\n",
              "      box-shadow: 0px 1px 3px 1px rgba(0, 0, 0, 0.15);\n",
              "      filter: drop-shadow(0px 1px 2px rgba(0, 0, 0, 0.3));\n",
              "      fill: #FFFFFF;\n",
              "    }\n",
              "  </style>\n",
              "\n",
              "    <script>\n",
              "      const buttonEl =\n",
              "        document.querySelector('#df-f6a5d4a9-d909-4ddf-a218-015840dae642 button.colab-df-convert');\n",
              "      buttonEl.style.display =\n",
              "        google.colab.kernel.accessAllowed ? 'block' : 'none';\n",
              "\n",
              "      async function convertToInteractive(key) {\n",
              "        const element = document.querySelector('#df-f6a5d4a9-d909-4ddf-a218-015840dae642');\n",
              "        const dataTable =\n",
              "          await google.colab.kernel.invokeFunction('convertToInteractive',\n",
              "                                                    [key], {});\n",
              "        if (!dataTable) return;\n",
              "\n",
              "        const docLinkHtml = 'Like what you see? Visit the ' +\n",
              "          '<a target=\"_blank\" href=https://colab.research.google.com/notebooks/data_table.ipynb>data table notebook</a>'\n",
              "          + ' to learn more about interactive tables.';\n",
              "        element.innerHTML = '';\n",
              "        dataTable['output_type'] = 'display_data';\n",
              "        await google.colab.output.renderOutput(dataTable, element);\n",
              "        const docLink = document.createElement('div');\n",
              "        docLink.innerHTML = docLinkHtml;\n",
              "        element.appendChild(docLink);\n",
              "      }\n",
              "    </script>\n",
              "  </div>\n",
              "\n",
              "\n",
              "<div id=\"df-e243eb1e-e793-4ca2-b611-b66d6dd0e3fc\">\n",
              "  <button class=\"colab-df-quickchart\" onclick=\"quickchart('df-e243eb1e-e793-4ca2-b611-b66d6dd0e3fc')\"\n",
              "            title=\"Suggest charts\"\n",
              "            style=\"display:none;\">\n",
              "\n",
              "<svg xmlns=\"http://www.w3.org/2000/svg\" height=\"24px\"viewBox=\"0 0 24 24\"\n",
              "     width=\"24px\">\n",
              "    <g>\n",
              "        <path d=\"M19 3H5c-1.1 0-2 .9-2 2v14c0 1.1.9 2 2 2h14c1.1 0 2-.9 2-2V5c0-1.1-.9-2-2-2zM9 17H7v-7h2v7zm4 0h-2V7h2v10zm4 0h-2v-4h2v4z\"/>\n",
              "    </g>\n",
              "</svg>\n",
              "  </button>\n",
              "\n",
              "<style>\n",
              "  .colab-df-quickchart {\n",
              "      --bg-color: #E8F0FE;\n",
              "      --fill-color: #1967D2;\n",
              "      --hover-bg-color: #E2EBFA;\n",
              "      --hover-fill-color: #174EA6;\n",
              "      --disabled-fill-color: #AAA;\n",
              "      --disabled-bg-color: #DDD;\n",
              "  }\n",
              "\n",
              "  [theme=dark] .colab-df-quickchart {\n",
              "      --bg-color: #3B4455;\n",
              "      --fill-color: #D2E3FC;\n",
              "      --hover-bg-color: #434B5C;\n",
              "      --hover-fill-color: #FFFFFF;\n",
              "      --disabled-bg-color: #3B4455;\n",
              "      --disabled-fill-color: #666;\n",
              "  }\n",
              "\n",
              "  .colab-df-quickchart {\n",
              "    background-color: var(--bg-color);\n",
              "    border: none;\n",
              "    border-radius: 50%;\n",
              "    cursor: pointer;\n",
              "    display: none;\n",
              "    fill: var(--fill-color);\n",
              "    height: 32px;\n",
              "    padding: 0;\n",
              "    width: 32px;\n",
              "  }\n",
              "\n",
              "  .colab-df-quickchart:hover {\n",
              "    background-color: var(--hover-bg-color);\n",
              "    box-shadow: 0 1px 2px rgba(60, 64, 67, 0.3), 0 1px 3px 1px rgba(60, 64, 67, 0.15);\n",
              "    fill: var(--button-hover-fill-color);\n",
              "  }\n",
              "\n",
              "  .colab-df-quickchart-complete:disabled,\n",
              "  .colab-df-quickchart-complete:disabled:hover {\n",
              "    background-color: var(--disabled-bg-color);\n",
              "    fill: var(--disabled-fill-color);\n",
              "    box-shadow: none;\n",
              "  }\n",
              "\n",
              "  .colab-df-spinner {\n",
              "    border: 2px solid var(--fill-color);\n",
              "    border-color: transparent;\n",
              "    border-bottom-color: var(--fill-color);\n",
              "    animation:\n",
              "      spin 1s steps(1) infinite;\n",
              "  }\n",
              "\n",
              "  @keyframes spin {\n",
              "    0% {\n",
              "      border-color: transparent;\n",
              "      border-bottom-color: var(--fill-color);\n",
              "      border-left-color: var(--fill-color);\n",
              "    }\n",
              "    20% {\n",
              "      border-color: transparent;\n",
              "      border-left-color: var(--fill-color);\n",
              "      border-top-color: var(--fill-color);\n",
              "    }\n",
              "    30% {\n",
              "      border-color: transparent;\n",
              "      border-left-color: var(--fill-color);\n",
              "      border-top-color: var(--fill-color);\n",
              "      border-right-color: var(--fill-color);\n",
              "    }\n",
              "    40% {\n",
              "      border-color: transparent;\n",
              "      border-right-color: var(--fill-color);\n",
              "      border-top-color: var(--fill-color);\n",
              "    }\n",
              "    60% {\n",
              "      border-color: transparent;\n",
              "      border-right-color: var(--fill-color);\n",
              "    }\n",
              "    80% {\n",
              "      border-color: transparent;\n",
              "      border-right-color: var(--fill-color);\n",
              "      border-bottom-color: var(--fill-color);\n",
              "    }\n",
              "    90% {\n",
              "      border-color: transparent;\n",
              "      border-bottom-color: var(--fill-color);\n",
              "    }\n",
              "  }\n",
              "</style>\n",
              "\n",
              "  <script>\n",
              "    async function quickchart(key) {\n",
              "      const quickchartButtonEl =\n",
              "        document.querySelector('#' + key + ' button');\n",
              "      quickchartButtonEl.disabled = true;  // To prevent multiple clicks.\n",
              "      quickchartButtonEl.classList.add('colab-df-spinner');\n",
              "      try {\n",
              "        const charts = await google.colab.kernel.invokeFunction(\n",
              "            'suggestCharts', [key], {});\n",
              "      } catch (error) {\n",
              "        console.error('Error during call to suggestCharts:', error);\n",
              "      }\n",
              "      quickchartButtonEl.classList.remove('colab-df-spinner');\n",
              "      quickchartButtonEl.classList.add('colab-df-quickchart-complete');\n",
              "    }\n",
              "    (() => {\n",
              "      let quickchartButtonEl =\n",
              "        document.querySelector('#df-e243eb1e-e793-4ca2-b611-b66d6dd0e3fc button');\n",
              "      quickchartButtonEl.style.display =\n",
              "        google.colab.kernel.accessAllowed ? 'block' : 'none';\n",
              "    })();\n",
              "  </script>\n",
              "</div>\n",
              "    </div>\n",
              "  </div>\n"
            ],
            "application/vnd.google.colaboratory.intrinsic+json": {
              "type": "dataframe",
              "variable_name": "df",
              "summary": "{\n  \"name\": \"df\",\n  \"rows\": 99441,\n  \"fields\": [\n    {\n      \"column\": \"order_id\",\n      \"properties\": {\n        \"dtype\": \"string\",\n        \"num_unique_values\": 99441,\n        \"samples\": [\n          \"34fad2c694d4b57ef78b164a097cf817\",\n          \"99cf68b71ac96d8b4c0f20dec410d8fd\",\n          \"9fc2a41d74cb13d98db36092842755f8\"\n        ],\n        \"semantic_type\": \"\",\n        \"description\": \"\"\n      }\n    },\n    {\n      \"column\": \"customer_unique_id\",\n      \"properties\": {\n        \"dtype\": \"string\",\n        \"num_unique_values\": 96096,\n        \"samples\": [\n          \"556b7a1c51bfef61bde3ab5d03f850b4\",\n          \"c81791588d27decdee7825442b68b20c\",\n          \"9a4b61ff23cf22fff476440b5186844b\"\n        ],\n        \"semantic_type\": \"\",\n        \"description\": \"\"\n      }\n    },\n    {\n      \"column\": \"total_payments\",\n      \"properties\": {\n        \"dtype\": \"number\",\n        \"std\": 222.76432550986007,\n        \"min\": 0.0,\n        \"max\": 13664.08,\n        \"num_unique_values\": 27632,\n        \"samples\": [\n          129.28,\n          181.52,\n          253.56\n        ],\n        \"semantic_type\": \"\",\n        \"description\": \"\"\n      }\n    },\n    {\n      \"column\": \"mean_review_score\",\n      \"properties\": {\n        \"dtype\": \"number\",\n        \"std\": 1.346274235114408,\n        \"min\": 1.0,\n        \"max\": 5.0,\n        \"num_unique_values\": 11,\n        \"samples\": [\n          4.5,\n          1.0,\n          3.3333333333\n        ],\n        \"semantic_type\": \"\",\n        \"description\": \"\"\n      }\n    },\n    {\n      \"column\": \"time_since_order\",\n      \"properties\": {\n        \"dtype\": \"timedelta64[ns]\",\n        \"num_unique_values\": 98875,\n        \"samples\": [\n          \"329 days 07:20:44\",\n          \"107 days 00:45:38\",\n          \"123 days 08:12:10\"\n        ],\n        \"semantic_type\": \"\",\n        \"description\": \"\"\n      }\n    },\n    {\n      \"column\": \"delay\",\n      \"properties\": {\n        \"dtype\": \"timedelta64[ns]\",\n        \"num_unique_values\": 92290,\n        \"samples\": [\n          \"-12 days +19:48:58\",\n          \"-14 days +22:37:25\",\n          \"-12 days +12:54:48\"\n        ],\n        \"semantic_type\": \"\",\n        \"description\": \"\"\n      }\n    }\n  ]\n}"
            }
          },
          "metadata": {},
          "execution_count": 37
        }
      ]
    },
    {
      "cell_type": "markdown",
      "source": [
        "# Train sets definition"
      ],
      "metadata": {
        "id": "V-oOISe_DHvl"
      }
    },
    {
      "cell_type": "code",
      "source": [
        "test_delays = range(2, 7) # months\n",
        "train_periods = [2, 4, 6] # months"
      ],
      "metadata": {
        "id": "XRB9mppq20Ve"
      },
      "execution_count": 48,
      "outputs": []
    },
    {
      "cell_type": "code",
      "source": [
        "train_orders = dict()\n",
        "six_months = pd.Timedelta(180, unit='D')\n",
        "\n",
        "# Extract the orders for every train period, from 6 months before the last order\n",
        "for i in train_periods:\n",
        "    train_period = pd.Timedelta(i * 30, unit='D')\n",
        "    # Select the data points at least 6 months before the last order\n",
        "    df_train = df[df[\"time_since_order\"] > six_months]\n",
        "    # Select the data points within the train period\n",
        "    df_train = df_train[\n",
        "        df_train[\"time_since_order\"] < train_period + six_months\n",
        "    ]\n",
        "    train_orders[i] = df_train"
      ],
      "metadata": {
        "id": "V2R0Na9iS96u"
      },
      "execution_count": 39,
      "outputs": []
    },
    {
      "cell_type": "markdown",
      "source": [
        "# Test sets definition"
      ],
      "metadata": {
        "id": "f-zvn7GMDMKV"
      }
    },
    {
      "cell_type": "code",
      "source": [
        "test_orders = dict()\n",
        "test_window = 2 # months\n",
        "\n",
        "# Extract the orders for every 2-month test window\n",
        "# from 6 to 2 months before the last order\n",
        "for j in test_delays:\n",
        "    # Set start and end times for the test window\n",
        "    start_time = six_months - pd.Timedelta((j - 2) * 30, unit='D')\n",
        "    end_time = start_time - pd.Timedelta(test_window * 30, unit='D')\n",
        "    # Filter the data points in the test window\n",
        "    df_test = df[df[\"time_since_order\"] < start_time]\n",
        "    df_test = df_test[df_test[\"time_since_order\"] > end_time]\n",
        "    test_orders[j] = df_test"
      ],
      "metadata": {
        "id": "uiq0XsWxXiMS"
      },
      "execution_count": 57,
      "outputs": []
    },
    {
      "cell_type": "markdown",
      "source": [
        "# Scaler & imputer"
      ],
      "metadata": {
        "id": "rH8Ji8KfDdPU"
      }
    },
    {
      "cell_type": "code",
      "source": [
        "imputer = SimpleImputer(strategy=\"mean\")\n",
        "scaler = StandardScaler()"
      ],
      "metadata": {
        "id": "YL6jOeIcBTrd"
      },
      "execution_count": 41,
      "outputs": []
    },
    {
      "cell_type": "markdown",
      "source": [
        "# Aggregation by customer and standardization"
      ],
      "metadata": {
        "id": "QcrktGfRCtyR"
      }
    },
    {
      "cell_type": "code",
      "source": [
        "def customer_aggregation(data):\n",
        "    \"\"\"\n",
        "    Transform a DataFrame of orders into a DataFrame grouped by customer with statistics about their order history.\n",
        "\n",
        "    Args:\n",
        "    -   data (pd.DataFrame): the orders to group by customer.\n",
        "\n",
        "    Return:\n",
        "    -   pd.DataFrame: each row represents a different customers, the columns give statistics about their order history.\n",
        "\n",
        "    \"\"\"\n",
        "\n",
        "    # Aggregation by customer\n",
        "    data = data.groupby(\"customer_unique_id\").agg(\n",
        "        {\n",
        "            \"order_id\": \"count\",\n",
        "            \"total_payments\": \"sum\",\n",
        "            \"mean_review_score\": \"mean\",\n",
        "            \"time_since_order\": \"min\",\n",
        "            \"delay\": \"mean\",\n",
        "        }\n",
        "    )\n",
        "\n",
        "    # Set column names\n",
        "    data.columns = [\n",
        "        \"n_orders\",\n",
        "        \"total_payments\",\n",
        "        \"mean_review_score\",\n",
        "        \"time_since_order\",\n",
        "        \"mean_delay\",\n",
        "    ]\n",
        "\n",
        "    # Impute mean value to review score\n",
        "    data[\"mean_review_score\"] = imputer.fit_transform(\n",
        "        np.array(data[\"mean_review_score\"]).reshape(-1, 1)\n",
        "    )\n",
        "\n",
        "    # Convert datetime to seconds\n",
        "    data[[\"time_since_order\", \"mean_delay\"]] = (\n",
        "        data[[\"time_since_order\", \"mean_delay\"]]\n",
        "        .applymap(lambda cell: cell.total_seconds())\n",
        "    )\n",
        "\n",
        "    # Log tranformation\n",
        "    data[[\"n_orders\", \"total_payments\"]] = (\n",
        "        data[[\"n_orders\", \"total_payments\"]]\n",
        "        .applymap(lambda cell: np.log1p(cell))\n",
        "    )\n",
        "\n",
        "    # Standardization\n",
        "    for col in data.columns:\n",
        "        data[col] = scaler.fit_transform(\n",
        "            np.array(data[col]).reshape(-1, 1)\n",
        "        )\n",
        "\n",
        "    return data"
      ],
      "metadata": {
        "id": "pa889kVJ9SuY"
      },
      "execution_count": 58,
      "outputs": []
    },
    {
      "cell_type": "code",
      "source": [
        "train_customers = dict()\n",
        "\n",
        "for key in train_orders.keys():\n",
        "    tr = train_orders[key]\n",
        "    train_customers[key] = customer_aggregation(tr)"
      ],
      "metadata": {
        "id": "JuhHgVQR25sn"
      },
      "execution_count": 59,
      "outputs": []
    },
    {
      "cell_type": "code",
      "source": [
        "test_customers = dict()\n",
        "\n",
        "for key in test_orders.keys():\n",
        "    tt = test_orders[key]\n",
        "    test_customers[key] = customer_aggregation(tt)"
      ],
      "metadata": {
        "id": "HBCS6pqo-gl-"
      },
      "execution_count": 60,
      "outputs": []
    },
    {
      "cell_type": "markdown",
      "source": [
        "# K-Means"
      ],
      "metadata": {
        "id": "MWBwDo-aC9Cx"
      }
    },
    {
      "cell_type": "code",
      "source": [
        "kmeans_model = KMeans(n_clusters=5, random_state=42)\n",
        "\n",
        "sim_data = dict()\n",
        "\n",
        "for t_train in train_periods:\n",
        "    print(\"Train period:\", t_train, \"months\" )\n",
        "    train_set = train_customers[t_train]\n",
        "\n",
        "    # K-means on train_set and store in df_cluster\n",
        "    train_clusters = kmeans_model.fit_predict(train_set)\n",
        "\n",
        "    test_clusters = dict()\n",
        "    for t_delay in test_delays:\n",
        "        print(\"Delay test:\", t_delay, \"months\")\n",
        "        test_set = test_customers[t_delay].copy()\n",
        "\n",
        "        # K-means predictions on test_set\n",
        "        test_clusters[f\"test_delay_{t_delay}\"] = kmeans_model.predict(test_set)\n",
        "\n",
        "\n",
        "    sim_data[f\"train_period_{t_train}\"] = (train_clusters, test_clusters)\n",
        "    print(\"---------------------\")"
      ],
      "metadata": {
        "id": "FTxQOGc6NRF1",
        "outputId": "a061d2db-53e1-4cf8-dd9e-6fdb81f5be09",
        "colab": {
          "base_uri": "https://localhost:8080/"
        }
      },
      "execution_count": 61,
      "outputs": [
        {
          "output_type": "stream",
          "name": "stdout",
          "text": [
            "Train period: 2 months\n",
            "Delay test: 2 months\n",
            "Delay test: 3 months\n",
            "Delay test: 4 months\n",
            "Delay test: 5 months\n",
            "Delay test: 6 months\n",
            "---------------------\n",
            "Train period: 4 months\n",
            "Delay test: 2 months\n",
            "Delay test: 3 months\n",
            "Delay test: 4 months\n",
            "Delay test: 5 months\n",
            "Delay test: 6 months\n",
            "---------------------\n",
            "Train period: 6 months\n",
            "Delay test: 2 months\n",
            "Delay test: 3 months\n",
            "Delay test: 4 months\n",
            "Delay test: 5 months\n",
            "Delay test: 6 months\n",
            "---------------------\n"
          ]
        }
      ]
    },
    {
      "cell_type": "markdown",
      "source": [
        "# Adjusted Rand Index"
      ],
      "metadata": {
        "id": "IPMN78Uu2O2j"
      }
    },
    {
      "cell_type": "code",
      "source": [
        "# Adjusted rand score between each train and test sets\n",
        "ari = pd.DataFrame()\n",
        "\n",
        "# Train periods: 2, 4, 6 months\n",
        "for train_period in sim_data.keys():\n",
        "\n",
        "    # Test after 2 to 6 months\n",
        "    for test_delay in sim_data[train_period][1].keys():\n",
        "        train_set = sim_data[train_period][0]\n",
        "        test_set = sim_data[train_period][1][test_delay]\n",
        "\n",
        "        # Number of data points\n",
        "        n_sample = min(train_set.shape[0], test_set.shape[0])\n",
        "\n",
        "        # Sample train or test sets while keeping the cluster proportions\n",
        "        _, sampled_train, _, _ = train_test_split(\n",
        "            train_set,\n",
        "            train_set,\n",
        "            test_size=n_sample - 5,\n",
        "            stratify=train_set,\n",
        "            random_state=42\n",
        "        )\n",
        "        _, sampled_test, _, _ = train_test_split(\n",
        "            test_set,\n",
        "            test_set,\n",
        "            test_size=n_sample - 5,\n",
        "            stratify=test_set,\n",
        "            random_state=42\n",
        "        )\n",
        "        # Sort by cluster for comparison\n",
        "        sampled_train = np.sort(sampled_train)\n",
        "        sampled_test = np.sort(sampled_test)\n",
        "\n",
        "        # Fill the DataFrame for adjusted rand score\n",
        "        ari.loc[\n",
        "            test_delay[-1],\n",
        "            train_period[-1]\n",
        "        ] = adjusted_rand_score(sampled_train, sampled_test)\n",
        "\n",
        "ari = ari.astype(float).iloc[::-1]"
      ],
      "metadata": {
        "id": "rlv-VVVNI-ZA"
      },
      "execution_count": 62,
      "outputs": []
    },
    {
      "cell_type": "code",
      "source": [
        "# Heatmap ARI = f(train period, test delay)\n",
        "plt.figure(figsize=(10,5))\n",
        "\n",
        "# Custom gradient\n",
        "colors = ['#FFFFFF', '#89939C', \"#4C4C4C\"]\n",
        "\n",
        "cmap = LinearSegmentedColormap.from_list('custom', colors)\n",
        "cm = sns.heatmap(\n",
        "    ari,\n",
        "    cmap=cmap,\n",
        "    annot=True,\n",
        "    vmax=0.9,\n",
        "    vmin=0.4,\n",
        "    linewidths=0.5,\n",
        "    linecolor='white'\n",
        ")\n",
        "cm.set(xlabel=\"Train Period (months)\" , ylabel=\"Test Delay (months)\")\n",
        "plt.tight_layout()"
      ],
      "metadata": {
        "id": "WbZY0-oFnL9m",
        "outputId": "90bba84c-5bdf-49ca-e5e4-a7b5d9cf7e44",
        "colab": {
          "base_uri": "https://localhost:8080/",
          "height": 997
        }
      },
      "execution_count": 63,
      "outputs": [
        {
          "output_type": "display_data",
          "data": {
            "text/plain": [
              "<Figure size 2000x1000 with 2 Axes>"
            ],
            "image/png": "[encoded data removed]"
          },
          "metadata": {}
        }
      ]
    }
  ],
  "metadata": {
    "kernelspec": {
      "display_name": "Python 3",
      "name": "python3"
    },
    "language_info": {
      "codemirror_mode": {
        "name": "ipython",
        "version": 3
      },
      "file_extension": ".py",
      "mimetype": "text/x-python",
      "name": "python",
      "nbconvert_exporter": "python",
      "pygments_lexer": "ipython3",
      "version": "3.11.5"
    },
    "colab": {
      "provenance": [],
      "machine_shape": "hm",
      "include_colab_link": true
    }
  },
  "nbformat": 4,
  "nbformat_minor": 0
}