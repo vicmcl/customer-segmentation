{
 "cells": [
  {
   "cell_type": "code",
   "execution_count": 7,
   "metadata": {},
   "outputs": [
    {
     "name": "stdout",
     "output_type": "stream",
     "text": [
      "The autoreload extension is already loaded. To reload it, use:\n",
      "  %reload_ext autoreload\n"
     ]
    }
   ],
   "source": [
    "%load_ext autoreload\n",
    "%autoreload 2"
   ]
  },
  {
   "cell_type": "code",
   "execution_count": 8,
   "metadata": {},
   "outputs": [],
   "source": [
    "import matplotlib.pyplot as plt\n",
    "import numpy as np\n",
    "import pandas as pd\n",
    "import seaborn as sns\n",
    "\n",
    "from customer_segmentation import CustomerStandardizer, CustomerSummary\n",
    "from sklearn.base import BaseEstimator, TransformerMixin\n",
    "from sklearn.impute import SimpleImputer\n",
    "from sklearn.preprocessing import StandardScaler\n",
    "\n",
    "%matplotlib inline\n",
    "sns.set_style('white')"
   ]
  },
  {
   "cell_type": "code",
   "execution_count": 9,
   "metadata": {},
   "outputs": [],
   "source": [
    "class Periodizer(BaseEstimator, TransformerMixin):\n",
    "    def __init__(self, months=3):\n",
    "        self.months = months\n",
    "\n",
    "    def fit(self, X, y=None):\n",
    "        return self\n",
    "\n",
    "    def transform(self, X):\n",
    "        X = X.sort_values(\"time_since_order\")\n",
    "        for col in [\"time_since_order\", \"delay\"]:\n",
    "            X[col] = pd.to_timedelta(\n",
    "                X[col].apply(lambda row: row / (60 * 60 * 24 * 1000)), unit=\"D\"\n",
    "            )\n",
    "        oldest_order = X[\"time_since_order\"].max()\n",
    "        time_interval = pd.Timedelta(30 * self.months, unit=\"D\")\n",
    "        bin_edges = [oldest_order]\n",
    "        while bin_edges[-1] - time_interval > pd.Timedelta(0):\n",
    "            next_bin_edge = bin_edges[-1] - time_interval\n",
    "            idx_bin_edge = (X[\"time_since_order\"] < next_bin_edge).idxmin()\n",
    "            bin_edges.append(X.loc[idx_bin_edge, \"time_since_order\"])\n",
    "        X[\"period_id\"] = (\n",
    "            pd.cut(X[\"time_since_order\"], bins=bin_edges[::-1], labels=False)\n",
    "            .map(lambda x: len(bin_edges) - x - 1 if x == x else len(bin_edges) - 1)\n",
    "            .astype(int)\n",
    "        )\n",
    "        return X"
   ]
  },
  {
   "cell_type": "code",
   "execution_count": 10,
   "metadata": {},
   "outputs": [],
   "source": [
    "df = pd.read_json(\"orders.json\")"
   ]
  },
  {
   "cell_type": "code",
   "execution_count": 12,
   "metadata": {},
   "outputs": [],
   "source": [
    "prdz = Periodizer(months=3)\n",
    "\n",
    "df = prdz.fit_transform(df)"
   ]
  },
  {
   "cell_type": "code",
   "execution_count": 14,
   "metadata": {},
   "outputs": [],
   "source": [
    "df_agg_period = df.groupby(\"period_id\")\n",
    "periods = dict()\n",
    "csum = CustomerSummary()\n",
    "cstd = CustomerStandardizer()\n",
    "\n",
    "for trim in range(1, df[\"period_id\"].max() + 1):\n",
    "    periods[trim] = (\n",
    "        cstd.fit_transform(\n",
    "            csum.fit_transform(\n",
    "                df_agg_period.get_group(trim).drop(\"period_id\", axis=1))))"
   ]
  }
 ],
 "metadata": {
  "kernelspec": {
   "display_name": "base",
   "language": "python",
   "name": "python3"
  },
  "language_info": {
   "codemirror_mode": {
    "name": "ipython",
    "version": 3
   },
   "file_extension": ".py",
   "mimetype": "text/x-python",
   "name": "python",
   "nbconvert_exporter": "python",
   "pygments_lexer": "ipython3",
   "version": "3.11.5"
  }
 },
 "nbformat": 4,
 "nbformat_minor": 2
}
