{
  "cells": [
    {
      "cell_type": "markdown",
      "metadata": {
        "colab_type": "text",
        "id": "view-in-github"
      },
      "source": [
        "<a href=\"https://colab.research.google.com/github/vicmcl/e-commerce/blob/main/notebook_simulation.ipynb\" target=\"_parent\"><img src=\"https://colab.research.google.com/assets/colab-badge.svg\" alt=\"Open In Colab\"/></a>"
      ]
    },
    {
      "cell_type": "markdown",
      "metadata": {
        "id": "xamKwV-WDCGR"
      },
      "source": [
        "# Import"
      ]
    },
    {
      "cell_type": "code",
      "execution_count": 34,
      "metadata": {
        "id": "5Dh-v1NkgXRm"
      },
      "outputs": [],
      "source": [
        "%reload_ext autoreload\n",
        "%autoreload 2"
      ]
    },
    {
      "cell_type": "code",
      "execution_count": 35,
      "metadata": {},
      "outputs": [],
      "source": [
        "from utils.preprocessing import customer_preprocessing"
      ]
    },
    {
      "cell_type": "code",
      "execution_count": 2,
      "metadata": {
        "id": "LXQxKlrUgXRo"
      },
      "outputs": [],
      "source": [
        "import matplotlib.pyplot as plt\n",
        "import numpy as np\n",
        "import pandas as pd\n",
        "import seaborn as sns\n",
        "import warnings\n",
        "\n",
        "from matplotlib.colors import LinearSegmentedColormap\n",
        "from sklearn.cluster import KMeans\n",
        "from sklearn.impute import SimpleImputer\n",
        "from sklearn.metrics import adjusted_rand_score\n",
        "from sklearn.model_selection import train_test_split\n",
        "from sklearn.preprocessing import StandardScaler\n",
        "\n",
        "%matplotlib inline\n",
        "warnings.filterwarnings(\"ignore\")"
      ]
    },
    {
      "cell_type": "code",
      "execution_count": 3,
      "metadata": {
        "id": "PGJMRepZgXRp"
      },
      "outputs": [],
      "source": [
        "df = pd.read_json(\"../data/json/orders.json\")"
      ]
    },
    {
      "cell_type": "code",
      "execution_count": 23,
      "metadata": {
        "id": "82zaBAc47TUy"
      },
      "outputs": [
        {
          "data": {
            "text/html": [
              "<div>\n",
              "<style scoped>\n",
              "    .dataframe tbody tr th:only-of-type {\n",
              "        vertical-align: middle;\n",
              "    }\n",
              "\n",
              "    .dataframe tbody tr th {\n",
              "        vertical-align: top;\n",
              "    }\n",
              "\n",
              "    .dataframe thead th {\n",
              "        text-align: right;\n",
              "    }\n",
              "</style>\n",
              "<table border=\"1\" class=\"dataframe\">\n",
              "  <thead>\n",
              "    <tr style=\"text-align: right;\">\n",
              "      <th></th>\n",
              "      <th>order_id</th>\n",
              "      <th>customer_unique_id</th>\n",
              "      <th>total_payments</th>\n",
              "      <th>mean_review_score</th>\n",
              "      <th>time_since_order</th>\n",
              "      <th>delay</th>\n",
              "    </tr>\n",
              "  </thead>\n",
              "  <tbody>\n",
              "    <tr>\n",
              "      <th>6511</th>\n",
              "      <td>10a045cdf6a5650c21e9cfeb60384c16</td>\n",
              "      <td>87ab9fec999db8bd5774917de3cdf01c</td>\n",
              "      <td>89.71</td>\n",
              "      <td>1.0</td>\n",
              "      <td>0 days 00:00:00</td>\n",
              "      <td>0 days 00:00:00</td>\n",
              "    </tr>\n",
              "    <tr>\n",
              "      <th>68317</th>\n",
              "      <td>b059ee4de278302d550a3035c4cdb740</td>\n",
              "      <td>262e1f1e26e92e86375f86840b4ffd63</td>\n",
              "      <td>222.03</td>\n",
              "      <td>5.0</td>\n",
              "      <td>0 days 21:14:16</td>\n",
              "      <td>0 days 00:00:00</td>\n",
              "    </tr>\n",
              "    <tr>\n",
              "      <th>62892</th>\n",
              "      <td>a2ac6dad85cf8af5b0afb510a240fe8c</td>\n",
              "      <td>af5454198a97379394cacf676e1e96cb</td>\n",
              "      <td>197.55</td>\n",
              "      <td>1.0</td>\n",
              "      <td>13 days 22:34:49</td>\n",
              "      <td>0 days 00:00:00</td>\n",
              "    </tr>\n",
              "    <tr>\n",
              "      <th>37735</th>\n",
              "      <td>616fa7d4871b87832197b2a137a115d2</td>\n",
              "      <td>634420a0ea42302205032ed44ac7fccc</td>\n",
              "      <td>80.38</td>\n",
              "      <td>2.0</td>\n",
              "      <td>16 days 02:00:09</td>\n",
              "      <td>0 days 00:00:00</td>\n",
              "    </tr>\n",
              "    <tr>\n",
              "      <th>22190</th>\n",
              "      <td>392ed9afd714e3c74767d0c4d3e3f477</td>\n",
              "      <td>9bb92bebd4cb7511e1a02d5e50bc4655</td>\n",
              "      <td>137.03</td>\n",
              "      <td>1.0</td>\n",
              "      <td>18 days 08:17:15</td>\n",
              "      <td>0 days 00:00:00</td>\n",
              "    </tr>\n",
              "    <tr>\n",
              "      <th>...</th>\n",
              "      <td>...</td>\n",
              "      <td>...</td>\n",
              "      <td>...</td>\n",
              "      <td>...</td>\n",
              "      <td>...</td>\n",
              "      <td>...</td>\n",
              "    </tr>\n",
              "    <tr>\n",
              "      <th>43966</th>\n",
              "      <td>71303d7e93b399f5bcd537d124c0bcfa</td>\n",
              "      <td>0eb1ee9dba87f5b36b4613a65074337c</td>\n",
              "      <td>109.34</td>\n",
              "      <td>1.0</td>\n",
              "      <td>744 days 19:22:26</td>\n",
              "      <td>0 days 00:00:00</td>\n",
              "    </tr>\n",
              "    <tr>\n",
              "      <th>74448</th>\n",
              "      <td>bfbd0f9bdef84302105ad712db648a6c</td>\n",
              "      <td>830d5b7aaa3b6f1e9ad63703bec97d23</td>\n",
              "      <td>0.00</td>\n",
              "      <td>1.0</td>\n",
              "      <td>762 days 05:13:40</td>\n",
              "      <td>36 days 07:47:38</td>\n",
              "    </tr>\n",
              "    <tr>\n",
              "      <th>49869</th>\n",
              "      <td>809a282bbd5dbcabb6f2f724fca862ec</td>\n",
              "      <td>009b0127b727ab0ba422f6d9604487c7</td>\n",
              "      <td>40.95</td>\n",
              "      <td>1.0</td>\n",
              "      <td>764 days 02:05:59</td>\n",
              "      <td>0 days 00:00:00</td>\n",
              "    </tr>\n",
              "    <tr>\n",
              "      <th>89489</th>\n",
              "      <td>e5fa5a7210941f7d56d0208e4e071d35</td>\n",
              "      <td>4854e9b3feff728c13ee5fc7d1547e92</td>\n",
              "      <td>75.06</td>\n",
              "      <td>1.0</td>\n",
              "      <td>772 days 17:14:44</td>\n",
              "      <td>0 days 00:00:00</td>\n",
              "    </tr>\n",
              "    <tr>\n",
              "      <th>17931</th>\n",
              "      <td>2e7a8482f6fb09756ca50c10d7bfc047</td>\n",
              "      <td>b7d76e111c89f7ebf14761390f0f7d17</td>\n",
              "      <td>136.23</td>\n",
              "      <td>1.0</td>\n",
              "      <td>772 days 20:14:59</td>\n",
              "      <td>727 days 17:30:18</td>\n",
              "    </tr>\n",
              "  </tbody>\n",
              "</table>\n",
              "<p>99441 rows × 6 columns</p>\n",
              "</div>"
            ],
            "text/plain": [
              "                               order_id                customer_unique_id  \\\n",
              "6511   10a045cdf6a5650c21e9cfeb60384c16  87ab9fec999db8bd5774917de3cdf01c   \n",
              "68317  b059ee4de278302d550a3035c4cdb740  262e1f1e26e92e86375f86840b4ffd63   \n",
              "62892  a2ac6dad85cf8af5b0afb510a240fe8c  af5454198a97379394cacf676e1e96cb   \n",
              "37735  616fa7d4871b87832197b2a137a115d2  634420a0ea42302205032ed44ac7fccc   \n",
              "22190  392ed9afd714e3c74767d0c4d3e3f477  9bb92bebd4cb7511e1a02d5e50bc4655   \n",
              "...                                 ...                               ...   \n",
              "43966  71303d7e93b399f5bcd537d124c0bcfa  0eb1ee9dba87f5b36b4613a65074337c   \n",
              "74448  bfbd0f9bdef84302105ad712db648a6c  830d5b7aaa3b6f1e9ad63703bec97d23   \n",
              "49869  809a282bbd5dbcabb6f2f724fca862ec  009b0127b727ab0ba422f6d9604487c7   \n",
              "89489  e5fa5a7210941f7d56d0208e4e071d35  4854e9b3feff728c13ee5fc7d1547e92   \n",
              "17931  2e7a8482f6fb09756ca50c10d7bfc047  b7d76e111c89f7ebf14761390f0f7d17   \n",
              "\n",
              "       total_payments  mean_review_score  time_since_order             delay  \n",
              "6511            89.71                1.0   0 days 00:00:00   0 days 00:00:00  \n",
              "68317          222.03                5.0   0 days 21:14:16   0 days 00:00:00  \n",
              "62892          197.55                1.0  13 days 22:34:49   0 days 00:00:00  \n",
              "37735           80.38                2.0  16 days 02:00:09   0 days 00:00:00  \n",
              "22190          137.03                1.0  18 days 08:17:15   0 days 00:00:00  \n",
              "...               ...                ...               ...               ...  \n",
              "43966          109.34                1.0 744 days 19:22:26   0 days 00:00:00  \n",
              "74448            0.00                1.0 762 days 05:13:40  36 days 07:47:38  \n",
              "49869           40.95                1.0 764 days 02:05:59   0 days 00:00:00  \n",
              "89489           75.06                1.0 772 days 17:14:44   0 days 00:00:00  \n",
              "17931          136.23                1.0 772 days 20:14:59 727 days 17:30:18  \n",
              "\n",
              "[99441 rows x 6 columns]"
            ]
          },
          "execution_count": 23,
          "metadata": {},
          "output_type": "execute_result"
        }
      ],
      "source": [
        "df[[\"time_since_order\", \"delay\"]] = df[[\"time_since_order\", \"delay\"]].map(\n",
        "    lambda x: pd.Timedelta(x, unit=\"ms\")\n",
        ")\n",
        "df"
      ]
    },
    {
      "cell_type": "markdown",
      "metadata": {
        "id": "V-oOISe_DHvl"
      },
      "source": [
        "# Train sets definition"
      ]
    },
    {
      "cell_type": "code",
      "execution_count": 25,
      "metadata": {
        "id": "XRB9mppq20Ve"
      },
      "outputs": [],
      "source": [
        "test_delays = range(2, 7) # months\n",
        "train_periods = [2, 4, 6] # months"
      ]
    },
    {
      "cell_type": "code",
      "execution_count": 26,
      "metadata": {
        "id": "V2R0Na9iS96u"
      },
      "outputs": [],
      "source": [
        "train_orders = dict()\n",
        "six_months = pd.Timedelta(180, unit='D')\n",
        "\n",
        "# Extract the orders for every train period, from 6 months before the last order\n",
        "for i in train_periods:\n",
        "    train_period = pd.Timedelta(i * 30, unit='D')\n",
        "    # Select the data points at least 6 months before the last order\n",
        "    df_train = df[df[\"time_since_order\"] > six_months]\n",
        "    # Select the data points within the train period\n",
        "    df_train = df_train[\n",
        "        df_train[\"time_since_order\"] < train_period + six_months\n",
        "    ]\n",
        "    train_orders[i] = df_train"
      ]
    },
    {
      "cell_type": "markdown",
      "metadata": {
        "id": "f-zvn7GMDMKV"
      },
      "source": [
        "# Test sets definition"
      ]
    },
    {
      "cell_type": "code",
      "execution_count": 28,
      "metadata": {
        "id": "uiq0XsWxXiMS"
      },
      "outputs": [],
      "source": [
        "test_orders = dict()\n",
        "test_window = 2 # months\n",
        "\n",
        "# Extract the orders for every 2-month test window\n",
        "# from 6 to 2 months before the last order\n",
        "for j in test_delays:\n",
        "    # Set start and end times for the test window\n",
        "    start_time = six_months - pd.Timedelta((j - 2) * 30, unit='D')\n",
        "    end_time = start_time - pd.Timedelta(test_window * 30, unit='D')\n",
        "    # Filter the data points in the test window\n",
        "    df_test = df[df[\"time_since_order\"] < start_time]\n",
        "    df_test = df_test[df_test[\"time_since_order\"] > end_time]\n",
        "    test_orders[j] = df_test"
      ]
    },
    {
      "cell_type": "markdown",
      "metadata": {
        "id": "rH8Ji8KfDdPU"
      },
      "source": [
        "# Scaler & imputer"
      ]
    },
    {
      "cell_type": "code",
      "execution_count": 29,
      "metadata": {
        "id": "YL6jOeIcBTrd"
      },
      "outputs": [],
      "source": [
        "imputer = SimpleImputer(strategy=\"mean\")\n",
        "scaler = StandardScaler()"
      ]
    },
    {
      "cell_type": "markdown",
      "metadata": {
        "id": "QcrktGfRCtyR"
      },
      "source": [
        "# Aggregation by customer and standardization"
      ]
    },
    {
      "cell_type": "code",
      "execution_count": 36,
      "metadata": {
        "id": "JuhHgVQR25sn"
      },
      "outputs": [],
      "source": [
        "train_customers = dict()\n",
        "\n",
        "for key in train_orders.keys():\n",
        "    tr = train_orders[key]\n",
        "    train_customers[key] = customer_preprocessing(\n",
        "        data = tr, imputer = imputer, scaler = scaler\n",
        "    )"
      ]
    },
    {
      "cell_type": "code",
      "execution_count": 32,
      "metadata": {},
      "outputs": [
        {
          "data": {
            "text/html": [
              "<div>\n",
              "<style scoped>\n",
              "    .dataframe tbody tr th:only-of-type {\n",
              "        vertical-align: middle;\n",
              "    }\n",
              "\n",
              "    .dataframe tbody tr th {\n",
              "        vertical-align: top;\n",
              "    }\n",
              "\n",
              "    .dataframe thead th {\n",
              "        text-align: right;\n",
              "    }\n",
              "</style>\n",
              "<table border=\"1\" class=\"dataframe\">\n",
              "  <thead>\n",
              "    <tr style=\"text-align: right;\">\n",
              "      <th></th>\n",
              "      <th>n_orders</th>\n",
              "      <th>total_payments</th>\n",
              "      <th>mean_review_score</th>\n",
              "      <th>time_since_order</th>\n",
              "      <th>mean_delay</th>\n",
              "    </tr>\n",
              "    <tr>\n",
              "      <th>customer_unique_id</th>\n",
              "      <th></th>\n",
              "      <th></th>\n",
              "      <th></th>\n",
              "      <th></th>\n",
              "      <th></th>\n",
              "    </tr>\n",
              "  </thead>\n",
              "  <tbody>\n",
              "    <tr>\n",
              "      <th>0004bd2a26a76fe21f786e4fbd80607f</th>\n",
              "      <td>-0.125621</td>\n",
              "      <td>0.479131</td>\n",
              "      <td>0.091338</td>\n",
              "      <td>-0.881839</td>\n",
              "      <td>-0.266470</td>\n",
              "    </tr>\n",
              "    <tr>\n",
              "      <th>00050ab1314c0e55a6ca13cf7181fecf</th>\n",
              "      <td>-0.125621</td>\n",
              "      <td>-1.407263</td>\n",
              "      <td>0.091338</td>\n",
              "      <td>-1.715941</td>\n",
              "      <td>-0.272267</td>\n",
              "    </tr>\n",
              "    <tr>\n",
              "      <th>00053a61a98854899e70ed204dd4bafe</th>\n",
              "      <td>-0.125621</td>\n",
              "      <td>1.609664</td>\n",
              "      <td>-1.933485</td>\n",
              "      <td>1.176955</td>\n",
              "      <td>-0.193918</td>\n",
              "    </tr>\n",
              "    <tr>\n",
              "      <th>0005ef4cd20d2893f0d9fbd94d3c0d97</th>\n",
              "      <td>-0.125621</td>\n",
              "      <td>0.170268</td>\n",
              "      <td>-1.933485</td>\n",
              "      <td>0.487518</td>\n",
              "      <td>1.201279</td>\n",
              "    </tr>\n",
              "    <tr>\n",
              "      <th>00090324bbad0e9342388303bb71ba0a</th>\n",
              "      <td>-0.125621</td>\n",
              "      <td>-0.698091</td>\n",
              "      <td>0.766279</td>\n",
              "      <td>-0.190747</td>\n",
              "      <td>-0.133196</td>\n",
              "    </tr>\n",
              "    <tr>\n",
              "      <th>...</th>\n",
              "      <td>...</td>\n",
              "      <td>...</td>\n",
              "      <td>...</td>\n",
              "      <td>...</td>\n",
              "      <td>...</td>\n",
              "    </tr>\n",
              "    <tr>\n",
              "      <th>ffe4d6bcc48632f0bb1bedf53702cc4b</th>\n",
              "      <td>-0.125621</td>\n",
              "      <td>-0.341118</td>\n",
              "      <td>0.766279</td>\n",
              "      <td>0.766299</td>\n",
              "      <td>-0.167490</td>\n",
              "    </tr>\n",
              "    <tr>\n",
              "      <th>ffec10ad4229ba46818560e1c8b40a68</th>\n",
              "      <td>-0.125621</td>\n",
              "      <td>0.225228</td>\n",
              "      <td>0.766279</td>\n",
              "      <td>-0.847957</td>\n",
              "      <td>-0.198639</td>\n",
              "    </tr>\n",
              "    <tr>\n",
              "      <th>fff1bdd5c5e37ca79dd74deeb91aa5b6</th>\n",
              "      <td>-0.125621</td>\n",
              "      <td>0.522406</td>\n",
              "      <td>-1.933485</td>\n",
              "      <td>1.388487</td>\n",
              "      <td>1.243018</td>\n",
              "    </tr>\n",
              "    <tr>\n",
              "      <th>fff2ae16b99c6f3c785f0e052f2a9cfb</th>\n",
              "      <td>-0.125621</td>\n",
              "      <td>0.705928</td>\n",
              "      <td>0.766279</td>\n",
              "      <td>-1.711472</td>\n",
              "      <td>-0.580538</td>\n",
              "    </tr>\n",
              "    <tr>\n",
              "      <th>fffcc512b7dfecaffd80f13614af1d16</th>\n",
              "      <td>-0.125621</td>\n",
              "      <td>2.259463</td>\n",
              "      <td>-1.933485</td>\n",
              "      <td>-1.176914</td>\n",
              "      <td>5.660989</td>\n",
              "    </tr>\n",
              "  </tbody>\n",
              "</table>\n",
              "<p>14090 rows × 5 columns</p>\n",
              "</div>"
            ],
            "text/plain": [
              "                                  n_orders  total_payments  mean_review_score  \\\n",
              "customer_unique_id                                                              \n",
              "0004bd2a26a76fe21f786e4fbd80607f -0.125621        0.479131           0.091338   \n",
              "00050ab1314c0e55a6ca13cf7181fecf -0.125621       -1.407263           0.091338   \n",
              "00053a61a98854899e70ed204dd4bafe -0.125621        1.609664          -1.933485   \n",
              "0005ef4cd20d2893f0d9fbd94d3c0d97 -0.125621        0.170268          -1.933485   \n",
              "00090324bbad0e9342388303bb71ba0a -0.125621       -0.698091           0.766279   \n",
              "...                                    ...             ...                ...   \n",
              "ffe4d6bcc48632f0bb1bedf53702cc4b -0.125621       -0.341118           0.766279   \n",
              "ffec10ad4229ba46818560e1c8b40a68 -0.125621        0.225228           0.766279   \n",
              "fff1bdd5c5e37ca79dd74deeb91aa5b6 -0.125621        0.522406          -1.933485   \n",
              "fff2ae16b99c6f3c785f0e052f2a9cfb -0.125621        0.705928           0.766279   \n",
              "fffcc512b7dfecaffd80f13614af1d16 -0.125621        2.259463          -1.933485   \n",
              "\n",
              "                                  time_since_order  mean_delay  \n",
              "customer_unique_id                                              \n",
              "0004bd2a26a76fe21f786e4fbd80607f         -0.881839   -0.266470  \n",
              "00050ab1314c0e55a6ca13cf7181fecf         -1.715941   -0.272267  \n",
              "00053a61a98854899e70ed204dd4bafe          1.176955   -0.193918  \n",
              "0005ef4cd20d2893f0d9fbd94d3c0d97          0.487518    1.201279  \n",
              "00090324bbad0e9342388303bb71ba0a         -0.190747   -0.133196  \n",
              "...                                            ...         ...  \n",
              "ffe4d6bcc48632f0bb1bedf53702cc4b          0.766299   -0.167490  \n",
              "ffec10ad4229ba46818560e1c8b40a68         -0.847957   -0.198639  \n",
              "fff1bdd5c5e37ca79dd74deeb91aa5b6          1.388487    1.243018  \n",
              "fff2ae16b99c6f3c785f0e052f2a9cfb         -1.711472   -0.580538  \n",
              "fffcc512b7dfecaffd80f13614af1d16         -1.176914    5.660989  \n",
              "\n",
              "[14090 rows x 5 columns]"
            ]
          },
          "execution_count": 32,
          "metadata": {},
          "output_type": "execute_result"
        }
      ],
      "source": [
        "train_customers[2]"
      ]
    },
    {
      "cell_type": "code",
      "execution_count": 38,
      "metadata": {
        "id": "HBCS6pqo-gl-"
      },
      "outputs": [],
      "source": [
        "test_customers = dict()\n",
        "\n",
        "for key in test_orders.keys():\n",
        "    tt = test_orders[key]\n",
        "    test_customers[key] = customer_preprocessing(\n",
        "        tt, imputer = imputer, scaler = scaler, set_type = \"test\"\n",
        "    )"
      ]
    },
    {
      "cell_type": "code",
      "execution_count": 39,
      "metadata": {},
      "outputs": [
        {
          "data": {
            "text/html": [
              "<div>\n",
              "<style scoped>\n",
              "    .dataframe tbody tr th:only-of-type {\n",
              "        vertical-align: middle;\n",
              "    }\n",
              "\n",
              "    .dataframe tbody tr th {\n",
              "        vertical-align: top;\n",
              "    }\n",
              "\n",
              "    .dataframe thead th {\n",
              "        text-align: right;\n",
              "    }\n",
              "</style>\n",
              "<table border=\"1\" class=\"dataframe\">\n",
              "  <thead>\n",
              "    <tr style=\"text-align: right;\">\n",
              "      <th></th>\n",
              "      <th>n_orders</th>\n",
              "      <th>total_payments</th>\n",
              "      <th>mean_review_score</th>\n",
              "      <th>time_since_order</th>\n",
              "      <th>mean_delay</th>\n",
              "    </tr>\n",
              "    <tr>\n",
              "      <th>customer_unique_id</th>\n",
              "      <th></th>\n",
              "      <th></th>\n",
              "      <th></th>\n",
              "      <th></th>\n",
              "      <th></th>\n",
              "    </tr>\n",
              "  </thead>\n",
              "  <tbody>\n",
              "    <tr>\n",
              "      <th>0000366f3b9a7992bf8c76cfdf3221e2</th>\n",
              "      <td>-0.102348</td>\n",
              "      <td>0.260650</td>\n",
              "      <td>0.631592</td>\n",
              "      <td>0.500345</td>\n",
              "      <td>0.451003</td>\n",
              "    </tr>\n",
              "    <tr>\n",
              "      <th>0000b849f77a49e4a4ce2b2a4ca5be3f</th>\n",
              "      <td>-0.102348</td>\n",
              "      <td>-1.727653</td>\n",
              "      <td>-0.172740</td>\n",
              "      <td>0.671802</td>\n",
              "      <td>0.444750</td>\n",
              "    </tr>\n",
              "    <tr>\n",
              "      <th>000949456b182f53c18b68d6babc79c1</th>\n",
              "      <td>-0.102348</td>\n",
              "      <td>-0.404130</td>\n",
              "      <td>-0.172740</td>\n",
              "      <td>1.477739</td>\n",
              "      <td>-0.103454</td>\n",
              "    </tr>\n",
              "    <tr>\n",
              "      <th>000ed48ceeb6f4bf8ad021a10a3c7b43</th>\n",
              "      <td>-0.102348</td>\n",
              "      <td>-2.045347</td>\n",
              "      <td>0.631592</td>\n",
              "      <td>-0.086301</td>\n",
              "      <td>0.284322</td>\n",
              "    </tr>\n",
              "    <tr>\n",
              "      <th>0019e8c501c85848ac0966d45226fa1d</th>\n",
              "      <td>-0.102348</td>\n",
              "      <td>0.661801</td>\n",
              "      <td>0.631592</td>\n",
              "      <td>1.020131</td>\n",
              "      <td>-0.361224</td>\n",
              "    </tr>\n",
              "    <tr>\n",
              "      <th>...</th>\n",
              "      <td>...</td>\n",
              "      <td>...</td>\n",
              "      <td>...</td>\n",
              "      <td>...</td>\n",
              "      <td>...</td>\n",
              "    </tr>\n",
              "    <tr>\n",
              "      <th>ffe6305176b9431a3eda3cf8904d7eb7</th>\n",
              "      <td>-0.102348</td>\n",
              "      <td>-0.836096</td>\n",
              "      <td>0.000000</td>\n",
              "      <td>-1.243461</td>\n",
              "      <td>6.846688</td>\n",
              "    </tr>\n",
              "    <tr>\n",
              "      <th>ffe76cb2f4bb39384c432d65ece67441</th>\n",
              "      <td>-0.102348</td>\n",
              "      <td>-0.666091</td>\n",
              "      <td>0.631592</td>\n",
              "      <td>1.361813</td>\n",
              "      <td>-0.085226</td>\n",
              "    </tr>\n",
              "    <tr>\n",
              "      <th>ffecceca389973ef16660d58696f281e</th>\n",
              "      <td>-0.102348</td>\n",
              "      <td>-0.549441</td>\n",
              "      <td>0.631592</td>\n",
              "      <td>1.357762</td>\n",
              "      <td>-0.102232</td>\n",
              "    </tr>\n",
              "    <tr>\n",
              "      <th>ffeddf8aa7cdecf403e77b2e9a99e2ea</th>\n",
              "      <td>-0.102348</td>\n",
              "      <td>0.703884</td>\n",
              "      <td>-1.781404</td>\n",
              "      <td>0.316007</td>\n",
              "      <td>1.046700</td>\n",
              "    </tr>\n",
              "    <tr>\n",
              "      <th>ffff5962728ec6157033ef9805bacc48</th>\n",
              "      <td>-0.102348</td>\n",
              "      <td>0.188171</td>\n",
              "      <td>0.631592</td>\n",
              "      <td>0.948754</td>\n",
              "      <td>-0.057504</td>\n",
              "    </tr>\n",
              "  </tbody>\n",
              "</table>\n",
              "<p>12922 rows × 5 columns</p>\n",
              "</div>"
            ],
            "text/plain": [
              "                                  n_orders  total_payments  mean_review_score  \\\n",
              "customer_unique_id                                                              \n",
              "0000366f3b9a7992bf8c76cfdf3221e2 -0.102348        0.260650           0.631592   \n",
              "0000b849f77a49e4a4ce2b2a4ca5be3f -0.102348       -1.727653          -0.172740   \n",
              "000949456b182f53c18b68d6babc79c1 -0.102348       -0.404130          -0.172740   \n",
              "000ed48ceeb6f4bf8ad021a10a3c7b43 -0.102348       -2.045347           0.631592   \n",
              "0019e8c501c85848ac0966d45226fa1d -0.102348        0.661801           0.631592   \n",
              "...                                    ...             ...                ...   \n",
              "ffe6305176b9431a3eda3cf8904d7eb7 -0.102348       -0.836096           0.000000   \n",
              "ffe76cb2f4bb39384c432d65ece67441 -0.102348       -0.666091           0.631592   \n",
              "ffecceca389973ef16660d58696f281e -0.102348       -0.549441           0.631592   \n",
              "ffeddf8aa7cdecf403e77b2e9a99e2ea -0.102348        0.703884          -1.781404   \n",
              "ffff5962728ec6157033ef9805bacc48 -0.102348        0.188171           0.631592   \n",
              "\n",
              "                                  time_since_order  mean_delay  \n",
              "customer_unique_id                                              \n",
              "0000366f3b9a7992bf8c76cfdf3221e2          0.500345    0.451003  \n",
              "0000b849f77a49e4a4ce2b2a4ca5be3f          0.671802    0.444750  \n",
              "000949456b182f53c18b68d6babc79c1          1.477739   -0.103454  \n",
              "000ed48ceeb6f4bf8ad021a10a3c7b43         -0.086301    0.284322  \n",
              "0019e8c501c85848ac0966d45226fa1d          1.020131   -0.361224  \n",
              "...                                            ...         ...  \n",
              "ffe6305176b9431a3eda3cf8904d7eb7         -1.243461    6.846688  \n",
              "ffe76cb2f4bb39384c432d65ece67441          1.361813   -0.085226  \n",
              "ffecceca389973ef16660d58696f281e          1.357762   -0.102232  \n",
              "ffeddf8aa7cdecf403e77b2e9a99e2ea          0.316007    1.046700  \n",
              "ffff5962728ec6157033ef9805bacc48          0.948754   -0.057504  \n",
              "\n",
              "[12922 rows x 5 columns]"
            ]
          },
          "execution_count": 39,
          "metadata": {},
          "output_type": "execute_result"
        }
      ],
      "source": [
        "test_customers[2]"
      ]
    },
    {
      "cell_type": "markdown",
      "metadata": {
        "id": "MWBwDo-aC9Cx"
      },
      "source": [
        "# K-Means"
      ]
    },
    {
      "cell_type": "code",
      "execution_count": 40,
      "metadata": {
        "colab": {
          "base_uri": "https://localhost:8080/"
        },
        "id": "FTxQOGc6NRF1",
        "outputId": "a061d2db-53e1-4cf8-dd9e-6fdb81f5be09"
      },
      "outputs": [
        {
          "name": "stdout",
          "output_type": "stream",
          "text": [
            "Train period: 2 months\n",
            "Delay test: 2 months\n",
            "Delay test: 3 months\n",
            "Delay test: 4 months\n",
            "Delay test: 5 months\n",
            "Delay test: 6 months\n",
            "---------------------\n",
            "Train period: 4 months\n",
            "Delay test: 2 months\n",
            "Delay test: 3 months\n",
            "Delay test: 4 months\n",
            "Delay test: 5 months\n",
            "Delay test: 6 months\n",
            "---------------------\n",
            "Train period: 6 months\n",
            "Delay test: 2 months\n",
            "Delay test: 3 months\n",
            "Delay test: 4 months\n",
            "Delay test: 5 months\n",
            "Delay test: 6 months\n",
            "---------------------\n"
          ]
        }
      ],
      "source": [
        "kmeans_model = KMeans(n_clusters=5, random_state=42)\n",
        "\n",
        "sim_data = dict()\n",
        "\n",
        "for t_train in train_periods:\n",
        "    print(\"Train period:\", t_train, \"months\" )\n",
        "    train_set = train_customers[t_train]\n",
        "\n",
        "    # K-means on train_set and store in df_cluster\n",
        "    train_clusters = kmeans_model.fit_predict(train_set)\n",
        "\n",
        "    test_clusters = dict()\n",
        "    for t_delay in test_delays:\n",
        "        print(\"Delay test:\", t_delay, \"months\")\n",
        "        test_set = test_customers[t_delay].copy()\n",
        "\n",
        "        # K-means predictions on test_set\n",
        "        test_clusters[f\"test_delay_{t_delay}\"] = kmeans_model.predict(test_set)\n",
        "\n",
        "\n",
        "    sim_data[f\"train_period_{t_train}\"] = (train_clusters, test_clusters)\n",
        "    print(\"---------------------\")"
      ]
    },
    {
      "cell_type": "markdown",
      "metadata": {
        "id": "IPMN78Uu2O2j"
      },
      "source": [
        "# Adjusted Rand Index"
      ]
    },
    {
      "cell_type": "markdown",
      "metadata": {},
      "source": [
        "The **Adjusted Rand Index** (ARI) compares the results obtained from the model with the expected customer clusters. It adjusts for the chance of random cluster assignments, providing a score between 0 and 1, where 1 indicates a perfect match between the predicted and true clusters. A higher ARI value signifies better agreement and less data drift between the model's segmentation and the actual customer segments, making it a useful tool for assessing the performance and stability of customer segmentation models over time."
      ]
    },
    {
      "cell_type": "code",
      "execution_count": 41,
      "metadata": {
        "id": "rlv-VVVNI-ZA"
      },
      "outputs": [],
      "source": [
        "# Adjusted rand score between each train and test sets\n",
        "ari = pd.DataFrame()\n",
        "\n",
        "# Train periods: 2, 4, 6 months\n",
        "for train_period in sim_data.keys():\n",
        "\n",
        "    # Test after 2 to 6 months\n",
        "    for test_delay in sim_data[train_period][1].keys():\n",
        "        train_set = sim_data[train_period][0]\n",
        "        test_set = sim_data[train_period][1][test_delay]\n",
        "\n",
        "        # Number of data points\n",
        "        n_sample = min(train_set.shape[0], test_set.shape[0])\n",
        "\n",
        "        # Sample train or test sets while keeping the cluster proportions\n",
        "        _, sampled_train, _, _ = train_test_split(\n",
        "            train_set,\n",
        "            train_set,\n",
        "            test_size=n_sample - 5,\n",
        "            stratify=train_set,\n",
        "            random_state=42\n",
        "        )\n",
        "        _, sampled_test, _, _ = train_test_split(\n",
        "            test_set,\n",
        "            test_set,\n",
        "            test_size=n_sample - 5,\n",
        "            stratify=test_set,\n",
        "            random_state=42\n",
        "        )\n",
        "        # Sort by cluster for comparison\n",
        "        sampled_train = np.sort(sampled_train)\n",
        "        sampled_test = np.sort(sampled_test)\n",
        "\n",
        "        # Fill the DataFrame for adjusted rand score\n",
        "        ari.loc[\n",
        "            test_delay[-1],\n",
        "            train_period[-1]\n",
        "        ] = adjusted_rand_score(sampled_train, sampled_test)\n",
        "\n",
        "ari = ari.astype(float).iloc[::-1]"
      ]
    },
    {
      "cell_type": "code",
      "execution_count": 42,
      "metadata": {
        "colab": {
          "base_uri": "https://localhost:8080/",
          "height": 997
        },
        "id": "WbZY0-oFnL9m",
        "outputId": "90bba84c-5bdf-49ca-e5e4-a7b5d9cf7e44"
      },
      "outputs": [
        {
          "data": {
            "image/png": "[encoded data removed]",
            "text/plain": [
              "<Figure size 1000x500 with 2 Axes>"
            ]
          },
          "metadata": {},
          "output_type": "display_data"
        }
      ],
      "source": [
        "# Heatmap for ARI depending on train period and test delay\n",
        "plt.figure(figsize=(10,5))\n",
        "\n",
        "# Custom gradient\n",
        "colors = ['#FFFFFF', '#89939C', \"#4C4C4C\"]\n",
        "\n",
        "cmap = LinearSegmentedColormap.from_list('custom', colors)\n",
        "cm = sns.heatmap(\n",
        "    ari, cmap=cmap, annot=True, vmax=0.9, vmin=0.4,\n",
        "    linewidths=0.5, linecolor='white'\n",
        ")\n",
        "cm.set(xlabel=\"Train Period (months)\" , ylabel=\"Test Delay (months)\")\n",
        "plt.tight_layout()"
      ]
    },
    {
      "cell_type": "markdown",
      "metadata": {},
      "source": [
        "According to the heatmap visualizing the Adjusted Rand Index (ARI) values, the best training period to obtain the most accurate and stable customer clusters over time is **4 months**.  The heatmap also shows that retraining the customer segmentation model every **3 or 5 months** yields the highest ARI scores, indicating the best results in terms of cluster stability and accuracy compared to the true customer segments."
      ]
    }
  ],
  "metadata": {
    "colab": {
      "include_colab_link": true,
      "machine_shape": "hm",
      "provenance": []
    },
    "kernelspec": {
      "display_name": "Python 3",
      "name": "python3"
    },
    "language_info": {
      "codemirror_mode": {
        "name": "ipython",
        "version": 3
      },
      "file_extension": ".py",
      "mimetype": "text/x-python",
      "name": "python",
      "nbconvert_exporter": "python",
      "pygments_lexer": "ipython3",
      "version": "3.12.4"
    }
  },
  "nbformat": 4,
  "nbformat_minor": 0
}
